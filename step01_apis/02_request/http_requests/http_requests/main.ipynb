{
 "cells": [
  {
   "cell_type": "markdown",
   "metadata": {},
   "source": [
    "# Learn HTTP Requst In Python Using Request Module\n",
    "   1. We will use the simple book API to learn to call APIs:\n",
    "      https://github.com/vdespa/introduction-to-postman-course/blob/main/simple-books-api.md\n",
    "   2. Requests Documentation:\n",
    "      https://requests.readthedocs.io/en/latest/\n",
    "   3. Tutorial:\n",
    "      https://ioflood.com/blog/python-requests/  \n"
   ]
  },
  {
   "cell_type": "code",
   "execution_count": 9,
   "metadata": {},
   "outputs": [],
   "source": [
    "import requests"
   ]
  },
  {
   "cell_type": "code",
   "execution_count": 10,
   "metadata": {},
   "outputs": [
    {
     "data": {
      "text/plain": [
       "'api response: '"
      ]
     },
     "metadata": {},
     "output_type": "display_data"
    },
    {
     "data": {
      "text/plain": [
       "<Response [200]>"
      ]
     },
     "metadata": {},
     "output_type": "display_data"
    },
    {
     "data": {
      "text/plain": [
       "'status code: '"
      ]
     },
     "metadata": {},
     "output_type": "display_data"
    },
    {
     "data": {
      "text/plain": [
       "200"
      ]
     },
     "metadata": {},
     "output_type": "display_data"
    },
    {
     "data": {
      "text/plain": [
       "'response text: '"
      ]
     },
     "metadata": {},
     "output_type": "display_data"
    },
    {
     "data": {
      "text/plain": [
       "'{\"status\":\"OK\"}'"
      ]
     },
     "metadata": {},
     "output_type": "display_data"
    },
    {
     "data": {
      "text/plain": [
       "str"
      ]
     },
     "metadata": {},
     "output_type": "display_data"
    },
    {
     "data": {
      "text/plain": [
       "'response headers: '"
      ]
     },
     "metadata": {},
     "output_type": "display_data"
    },
    {
     "data": {
      "text/plain": [
       "{'Date': 'Fri, 05 Apr 2024 20:03:38 GMT', 'Content-Type': 'application/json; charset=utf-8', 'Content-Length': '15', 'Connection': 'keep-alive', 'x-powered-by': 'Express', 'etag': 'W/\"f-v/Y1JusChTxrQUzPtNAKycooOTA\"'}"
      ]
     },
     "metadata": {},
     "output_type": "display_data"
    },
    {
     "data": {
      "text/plain": [
       "requests.structures.CaseInsensitiveDict"
      ]
     },
     "metadata": {},
     "output_type": "display_data"
    }
   ],
   "source": [
    "from requests.models import Response\n",
    "from requests.structures import  CaseInsensitiveDict\n",
    "\n",
    "response : Response = requests.get(\"https://simple-books-api.glitch.me/status\")\n",
    "display(\"api response: \", response)\n",
    "\n",
    "# get status for this response object\n",
    "status_code : int = response.status_code\n",
    "display(\"status code: \", status_code)\n",
    "\n",
    "# get json response object\n",
    "json_response : dict = response.json()\n",
    "display(\"json response: \", json_response,type(json_response))\n",
    "\n",
    "# get response text\n",
    "response_txt : str = response.text\n",
    "display(\"response text: \", response_txt, type(response_txt))\n",
    "\n",
    "# get response headers\n",
    "response_headers : CaseInsensitiveDict = response.headers\n",
    "display(\"response headers: \", response_headers, type(response_headers))"
   ]
  }
 ],
 "metadata": {
  "kernelspec": {
   "display_name": "fastapi_environment",
   "language": "python",
   "name": "python3"
  },
  "language_info": {
   "codemirror_mode": {
    "name": "ipython",
    "version": 3
   },
   "file_extension": ".py",
   "mimetype": "text/x-python",
   "name": "python",
   "nbconvert_exporter": "python",
   "pygments_lexer": "ipython3",
   "version": "3.12.0"
  }
 },
 "nbformat": 4,
 "nbformat_minor": 2
}
