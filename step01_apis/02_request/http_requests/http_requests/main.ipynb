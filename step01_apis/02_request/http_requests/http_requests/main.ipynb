{
 "cells": [
  {
   "cell_type": "markdown",
   "metadata": {},
   "source": [
    "# Learn HTTP Requst In Python Using Request Module\n",
    "   1. We will use the simple book API to learn to call APIs:\n",
    "      https://github.com/vdespa/introduction-to-postman-course/blob/main/simple-books-api.md\n",
    "   2. Requests Documentation:\n",
    "      https://requests.readthedocs.io/en/latest/\n",
    "   3. Tutorial:\n",
    "      https://ioflood.com/blog/python-requests/  \n"
   ]
  },
  {
   "cell_type": "code",
   "execution_count": 9,
   "metadata": {},
   "outputs": [],
   "source": [
    "import requests"
   ]
  },
  {
   "cell_type": "code",
   "execution_count": 12,
   "metadata": {},
   "outputs": [
    {
     "data": {
      "text/plain": [
       "'api response: '"
      ]
     },
     "metadata": {},
     "output_type": "display_data"
    },
    {
     "data": {
      "text/plain": [
       "<Response [200]>"
      ]
     },
     "metadata": {},
     "output_type": "display_data"
    },
    {
     "data": {
      "text/plain": [
       "'status code: '"
      ]
     },
     "metadata": {},
     "output_type": "display_data"
    },
    {
     "data": {
      "text/plain": [
       "200"
      ]
     },
     "metadata": {},
     "output_type": "display_data"
    },
    {
     "data": {
      "text/plain": [
       "'json response: '"
      ]
     },
     "metadata": {},
     "output_type": "display_data"
    },
    {
     "data": {
      "text/plain": [
       "{'status': 'OK'}"
      ]
     },
     "metadata": {},
     "output_type": "display_data"
    },
    {
     "data": {
      "text/plain": [
       "dict"
      ]
     },
     "metadata": {},
     "output_type": "display_data"
    },
    {
     "data": {
      "text/plain": [
       "'response text: '"
      ]
     },
     "metadata": {},
     "output_type": "display_data"
    },
    {
     "data": {
      "text/plain": [
       "'{\"status\":\"OK\"}'"
      ]
     },
     "metadata": {},
     "output_type": "display_data"
    },
    {
     "data": {
      "text/plain": [
       "str"
      ]
     },
     "metadata": {},
     "output_type": "display_data"
    },
    {
     "data": {
      "text/plain": [
       "'response headers: '"
      ]
     },
     "metadata": {},
     "output_type": "display_data"
    },
    {
     "data": {
      "text/plain": [
       "{'Date': 'Fri, 05 Apr 2024 20:42:41 GMT', 'Content-Type': 'application/json; charset=utf-8', 'Content-Length': '15', 'Connection': 'keep-alive', 'x-powered-by': 'Express', 'etag': 'W/\"f-v/Y1JusChTxrQUzPtNAKycooOTA\"'}"
      ]
     },
     "metadata": {},
     "output_type": "display_data"
    },
    {
     "data": {
      "text/plain": [
       "requests.structures.CaseInsensitiveDict"
      ]
     },
     "metadata": {},
     "output_type": "display_data"
    }
   ],
   "source": [
    "from requests.models import Response\n",
    "from requests.structures import  CaseInsensitiveDict\n",
    "\n",
    "response : Response = requests.get(\"https://simple-books-api.glitch.me/status\")\n",
    "display(\"api response: \", response)\n",
    "\n",
    "# get status for this response object\n",
    "status_code : int = response.status_code\n",
    "display(\"status code: \", status_code)\n",
    "\n",
    "# get json response object\n",
    "json_response : dict = response.json()\n",
    "display(\"json response: \", json_response,type(json_response))\n",
    "\n",
    "# get response text\n",
    "response_txt : str = response.text\n",
    "display(\"response text: \", response_txt, type(response_txt))\n",
    "\n",
    "# get response headers\n",
    "response_headers : CaseInsensitiveDict = response.headers\n",
    "display(\"response headers: \", response_headers, type(response_headers))"
   ]
  },
  {
   "cell_type": "markdown",
   "metadata": {},
   "source": [
    "# List of books\n",
    "\n",
    "GET `/books`\n",
    "Returns a list of books.\n",
    "\n",
    "Optional query parameters:\n",
    " 1. type: fiction or non-fiction\n",
    " 2. type: fiction or non-fiction"
   ]
  },
  {
   "cell_type": "code",
   "execution_count": 13,
   "metadata": {},
   "outputs": [
    {
     "data": {
      "text/plain": [
       "'api response: '"
      ]
     },
     "metadata": {},
     "output_type": "display_data"
    },
    {
     "data": {
      "text/plain": [
       "<Response [200]>"
      ]
     },
     "metadata": {},
     "output_type": "display_data"
    },
    {
     "data": {
      "text/plain": [
       "'json response: '"
      ]
     },
     "metadata": {},
     "output_type": "display_data"
    },
    {
     "data": {
      "text/plain": [
       "[{'id': 1, 'name': 'The Russian', 'type': 'fiction', 'available': True},\n",
       " {'id': 2, 'name': 'Just as I Am', 'type': 'non-fiction', 'available': False},\n",
       " {'id': 3, 'name': 'The Vanishing Half', 'type': 'fiction', 'available': True},\n",
       " {'id': 4,\n",
       "  'name': 'The Midnight Library',\n",
       "  'type': 'fiction',\n",
       "  'available': True},\n",
       " {'id': 5, 'name': 'Untamed', 'type': 'non-fiction', 'available': True},\n",
       " {'id': 6,\n",
       "  'name': 'Viscount Who Loved Me',\n",
       "  'type': 'fiction',\n",
       "  'available': True}]"
      ]
     },
     "metadata": {},
     "output_type": "display_data"
    },
    {
     "data": {
      "text/plain": [
       "list"
      ]
     },
     "metadata": {},
     "output_type": "display_data"
    }
   ],
   "source": [
    "from requests.models import Response\n",
    "from requests.structures import  CaseInsensitiveDict\n",
    "\n",
    "response : Response = requests.get(\"https://simple-books-api.glitch.me/books\")\n",
    "display(\"api response: \", response)\n",
    "\n",
    "# get json response object\n",
    "json_response : dict = response.json()\n",
    "display(\"json response: \", json_response,type(json_response))\n"
   ]
  },
  {
   "cell_type": "markdown",
   "metadata": {},
   "source": [
    "# Get a single book\n",
    "\n",
    "GET `/books/:bookId`\n",
    "\n",
    "Retrieve detailed information about a book.\n"
   ]
  },
  {
   "cell_type": "code",
   "execution_count": 24,
   "metadata": {},
   "outputs": [
    {
     "data": {
      "text/plain": [
       "'api response: '"
      ]
     },
     "metadata": {},
     "output_type": "display_data"
    },
    {
     "data": {
      "text/plain": [
       "<Response [200]>"
      ]
     },
     "metadata": {},
     "output_type": "display_data"
    },
    {
     "data": {
      "text/plain": [
       "'json response: '"
      ]
     },
     "metadata": {},
     "output_type": "display_data"
    },
    {
     "data": {
      "text/plain": [
       "{'id': 2,\n",
       " 'name': 'Just as I Am',\n",
       " 'author': 'Cicely Tyson',\n",
       " 'type': 'non-fiction',\n",
       " 'price': 20.33,\n",
       " 'current-stock': 0,\n",
       " 'available': False}"
      ]
     },
     "metadata": {},
     "output_type": "display_data"
    },
    {
     "data": {
      "text/plain": [
       "dict"
      ]
     },
     "metadata": {},
     "output_type": "display_data"
    }
   ],
   "source": [
    "from requests.models import Response\n",
    "from requests.structures import  CaseInsensitiveDict\n",
    "\n",
    "book_id : int = 2;\n",
    "response : Response = requests.get(f\"https://simple-books-api.glitch.me/books/{book_id}\")\n",
    "display(\"api response: \", response)\n",
    "\n",
    "# get json response object\n",
    "json_response : dict = response.json()\n",
    "display(\"json response: \", json_response,type(json_response))\n"
   ]
  },
  {
   "cell_type": "markdown",
   "metadata": {},
   "source": [
    "# API Authentication"
   ]
  },
  {
   "cell_type": "code",
   "execution_count": 8,
   "metadata": {},
   "outputs": [
    {
     "name": "stdout",
     "output_type": "stream",
     "text": [
      "{'error': 'Invalid or missing client name.'}\n"
     ]
    }
   ],
   "source": [
    "from requests.models import Response\n",
    "from requests.structures import CaseInsensitiveDict\n",
    "\n",
    "payload = {\n",
    "   \"clientName\": \"qasim1\",\n",
    "   \"clientEmail\": \"m.qasim1@gmail.com\"\n",
    "}\n",
    "response : Response = requests.post(\"https://simple-books-api.glitch.me/api-clients/\",data=payload)\n",
    "\n",
    "print(response.json())\n",
    "\n"
   ]
  },
  {
   "cell_type": "markdown",
   "metadata": {},
   "source": [
    "# Submit an order\n",
    "\n",
    "POST `/orders`\n",
    "\n",
    "Allows you to submit a new order. Requires authentication.\n",
    "The request body needs to be in JSON format and include the following properties:\n",
    "   \n",
    "    `bookId` - Integer - Required\n",
    "    `customerName ` - String - Required\n",
    "    \n",
    "Example\n",
    "\n",
    "`\n",
    "POST /orders/\n",
    "\n",
    "Authorization: \n",
    "Bearer` <YOUR TOKEN>`\n",
    "\n",
    "{\n",
    "  \"bookId\": 1,\n",
    "  \"customerName\": \"John\"\n",
    "}\n",
    "`\n",
    "\n",
    "The response body will contain the order Id.\n",
    "\n"
   ]
  },
  {
   "cell_type": "code",
   "execution_count": null,
   "metadata": {},
   "outputs": [],
   "source": [
    "from requests.models import Response\n",
    "from requests.structures import CaseInsensitiveDict\n",
    "\n",
    "\n",
    "response : Response = requests.post(\"https://simple-books-api.glitch.me/orders/\",headers={\n",
    "  auht\n",
    "})"
   ]
  }
 ],
 "metadata": {
  "kernelspec": {
   "display_name": "fastapi_environment",
   "language": "python",
   "name": "python3"
  },
  "language_info": {
   "codemirror_mode": {
    "name": "ipython",
    "version": 3
   },
   "file_extension": ".py",
   "mimetype": "text/x-python",
   "name": "python",
   "nbconvert_exporter": "python",
   "pygments_lexer": "ipython3",
   "version": "3.12.0"
  }
 },
 "nbformat": 4,
 "nbformat_minor": 2
}
